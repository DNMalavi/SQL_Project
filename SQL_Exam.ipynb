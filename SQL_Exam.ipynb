{
 "cells": [
  {
   "cell_type": "markdown",
   "id": "bf17eebd",
   "metadata": {},
   "source": [
    "<div align=\"right\" style=\" font-size: 80%; text-align: center; margin: 0 auto\">\n",
    "<img src=\"https://raw.githubusercontent.com/Explore-AI/Pictures/master/ExploreAI_logos/Logo blue_dark.png\"  style=\"width:25px\" align=\"right\";/>\n",
    "</div>"
   ]
  },
  {
   "cell_type": "markdown",
   "id": "f662d169",
   "metadata": {},
   "source": [
    "# SQL Exam\n",
    "© ExploreAI Academy"
   ]
  },
  {
   "cell_type": "markdown",
   "id": "26af890c",
   "metadata": {},
   "source": [
    "## Instructions to students\n",
    "\n",
    "This challenge is designed to determine how much you have learned so far and will test your knowledge on SQL.\n",
    "\n",
    "The answers for this challenge should be selected on Athena for each corresponding multiple-choice question. The questions are included in this notebook and are numbered according to the Athena questions. The options for each question have also been included.\n",
    "\n",
    "Do not add or remove cells in this notebook. Do not edit or remove the `%%sql` comment as it is required to run each cell.\n",
    "\n",
    "**_Good luck!_**"
   ]
  },
  {
   "cell_type": "markdown",
   "id": "092d3f5e",
   "metadata": {},
   "source": [
    "## Honour code\n",
    "\n",
    "I, **Derick Malavi**, confirm – by submitting this document – that the solutions in this notebook are a result of my own work and that I abide by the EDSA honour code (https://drive.google.com/file/d/1QDCjGZJ8-FmJE3bZdIQNwnJyQKPhHZBn/view?usp=sharing).\n",
    "\n",
    "Non-compliance with the honour code constitutes a material breach of contract."
   ]
  },
  {
   "cell_type": "markdown",
   "id": "b6bdd20c",
   "metadata": {},
   "source": [
    "## The TMDb database\n",
    "\n",
    "In this supplementary exam, you will be exploring [The Movie Database](https://www.themoviedb.org/) – an online movie and TV show database that houses some of the most popular movies and TV shows at your fingertips. The TMDb database supports 39 official languages used in over 180 countries daily and dates back all the way to 2008. \n",
    "\n",
    "\n",
    "<img src=\"https://github.com/Explore-AI/Pictures/blob/master/sql_tmdb.jpg?raw=true\" width=80%/>\n",
    "\n",
    "\n",
    "Below is an Entity Relationship Diagram (ERD) of the TMDb database:\n",
    "\n",
    "<img src=\"https://github.com/Explore-AI/Pictures/blob/master/TMDB_ER_diagram.png?raw=true\" width=70%/>\n",
    "\n",
    "As can be seen from the ERD, the TMDb database consists of `12 tables` containing information about movies, cast, genre, and so much more.  \n",
    "\n",
    "Let's get started!"
   ]
  },
  {
   "cell_type": "markdown",
   "id": "5a0b7683",
   "metadata": {
    "tags": []
   },
   "source": [
    "## Loading the database\n",
    "\n",
    "Before you begin, you need to prepare your SQL environment.  You can do this by loading the magic command `%load_ext sql`."
   ]
  },
  {
   "cell_type": "code",
   "execution_count": 1,
   "id": "0f34ea72",
   "metadata": {},
   "outputs": [],
   "source": [
    "# Load and activate the SQL extension to allow us to execute SQL in a Jupyter notebook. \n",
    "# If you get an error here, make sure that mysql and pymysql are installed correctly. \n",
    "\n",
    "%load_ext sql"
   ]
  },
  {
   "cell_type": "markdown",
   "id": "3f78b691",
   "metadata": {},
   "source": [
    "Next, go ahead and load your database. To do this, you will need to ensure you have downloaded the `TMDB.db` sqlite file from Athena and have stored it in a known location."
   ]
  },
  {
   "cell_type": "code",
   "execution_count": 2,
   "id": "d279a04d",
   "metadata": {},
   "outputs": [
    {
     "data": {
      "text/plain": [
       "'Connected: @TMDB_db.db'"
      ]
     },
     "execution_count": 2,
     "metadata": {},
     "output_type": "execute_result"
    }
   ],
   "source": [
    "# Establish a connection to the local database using the '%sql' magic command.\n",
    "# Replace 'password' with our connection password and `db_name` with our database name. \n",
    "# If you get an error here, please make sure the database name or password is correct.\n",
    "\n",
    "%sql sqlite:///TMDB_db.db"
   ]
  },
  {
   "cell_type": "markdown",
   "id": "6f8bbc0b-c31c-4274-ad13-399a9182a260",
   "metadata": {},
   "source": [
    "If the above line didn't throw out any errors, then you should be good to go. Good luck with the exam! "
   ]
  },
  {
   "cell_type": "markdown",
   "id": "f5ed5285",
   "metadata": {},
   "source": [
    "## Questions on SQL\n",
    "\n",
    "Use the given cell below each question to execute your SQL queries to find the correct input from the options provided. Your solution should match one of the multiple-choice questions on Athena."
   ]
  },
  {
   "cell_type": "markdown",
   "id": "86802726",
   "metadata": {},
   "source": [
    "### Question 1\n",
    "\n",
    "Who won the Oscar for “Actor in a Leading Role” in  2015?\n",
    "\n",
    "(Hint: The winner is indicated as '1.0'.)\n",
    "\n",
    "**Options:** \n",
    "\n",
    "  - Micheal Fassbender\n",
    "  - Natalie Portman\n",
    "  - <mark>Leonardo DiCaprio</mark>\n",
    "  - Eddie Redmayne\n"
   ]
  },
  {
   "cell_type": "code",
   "execution_count": 10,
   "id": "bd717b1f-3f3c-4337-aad2-ca28eba1fe80",
   "metadata": {},
   "outputs": [
    {
     "name": "stdout",
     "output_type": "stream",
     "text": [
      " * sqlite:///TMDB_db.db\n",
      "Done.\n"
     ]
    },
    {
     "data": {
      "text/html": [
       "<table>\n",
       "    <thead>\n",
       "        <tr>\n",
       "            <th>year</th>\n",
       "            <th>award</th>\n",
       "            <th>winner</th>\n",
       "            <th>name</th>\n",
       "            <th>film</th>\n",
       "        </tr>\n",
       "    </thead>\n",
       "    <tbody>\n",
       "        <tr>\n",
       "            <td>2015</td>\n",
       "            <td>Actor in a Leading Role</td>\n",
       "            <td>1.0</td>\n",
       "            <td>Leonardo DiCaprio</td>\n",
       "            <td>The Revenant</td>\n",
       "        </tr>\n",
       "    </tbody>\n",
       "</table>"
      ],
      "text/plain": [
       "[('2015', 'Actor in a Leading Role', '1.0', 'Leonardo DiCaprio', 'The Revenant')]"
      ]
     },
     "execution_count": 10,
     "metadata": {},
     "output_type": "execute_result"
    }
   ],
   "source": [
    "%%sql\n",
    "SELECT *\n",
    "FROM oscars\n",
    "WHERE\n",
    "    award = 'Actor in a Leading Role'\n",
    "    AND year = 2015 AND winner = 1.0;"
   ]
  },
  {
   "cell_type": "markdown",
   "id": "9545206c",
   "metadata": {},
   "source": [
    "### Question 2\n",
    "\n",
    "What query will produce the ten oldest movies in the database?\n",
    "\n",
    "**Options:**\n",
    "\n",
    " - SELECT TOP(10) * FROM movies WHERE release_date ORDER BY release_date ASC\n",
    "\n",
    " - <mark>SELECT  * FROM movies WHERE release_date IS NOT NULL ORDER BY release_date ASC LIMIT 10</mark>\n",
    "\n",
    " - SELECT * FROM movies WHERE release_date IS NOT NULL ORDER BY release_date DESC LIMIT 10\n",
    "\n",
    " -  SELECT * FROM movies WHERE release_date IS NULL ORDER BY release_date DESC LIMIT 10"
   ]
  },
  {
   "cell_type": "code",
   "execution_count": 15,
   "id": "748f4263",
   "metadata": {},
   "outputs": [
    {
     "name": "stdout",
     "output_type": "stream",
     "text": [
      " * sqlite:///TMDB_db.db\n",
      "Done.\n"
     ]
    },
    {
     "data": {
      "text/html": [
       "<table>\n",
       "    <thead>\n",
       "        <tr>\n",
       "            <th>release_date</th>\n",
       "        </tr>\n",
       "    </thead>\n",
       "    <tbody>\n",
       "        <tr>\n",
       "            <td>1916-09-04 00:00:00.000000</td>\n",
       "        </tr>\n",
       "        <tr>\n",
       "            <td>1925-11-05 00:00:00.000000</td>\n",
       "        </tr>\n",
       "        <tr>\n",
       "            <td>1927-01-10 00:00:00.000000</td>\n",
       "        </tr>\n",
       "        <tr>\n",
       "            <td>1929-01-30 00:00:00.000000</td>\n",
       "        </tr>\n",
       "        <tr>\n",
       "            <td>1929-02-08 00:00:00.000000</td>\n",
       "        </tr>\n",
       "        <tr>\n",
       "            <td>1930-11-15 00:00:00.000000</td>\n",
       "        </tr>\n",
       "        <tr>\n",
       "            <td>1932-12-08 00:00:00.000000</td>\n",
       "        </tr>\n",
       "        <tr>\n",
       "            <td>1933-02-02 00:00:00.000000</td>\n",
       "        </tr>\n",
       "        <tr>\n",
       "            <td>1933-02-09 00:00:00.000000</td>\n",
       "        </tr>\n",
       "        <tr>\n",
       "            <td>1934-02-22 00:00:00.000000</td>\n",
       "        </tr>\n",
       "    </tbody>\n",
       "</table>"
      ],
      "text/plain": [
       "[('1916-09-04 00:00:00.000000',),\n",
       " ('1925-11-05 00:00:00.000000',),\n",
       " ('1927-01-10 00:00:00.000000',),\n",
       " ('1929-01-30 00:00:00.000000',),\n",
       " ('1929-02-08 00:00:00.000000',),\n",
       " ('1930-11-15 00:00:00.000000',),\n",
       " ('1932-12-08 00:00:00.000000',),\n",
       " ('1933-02-02 00:00:00.000000',),\n",
       " ('1933-02-09 00:00:00.000000',),\n",
       " ('1934-02-22 00:00:00.000000',)]"
      ]
     },
     "execution_count": 15,
     "metadata": {},
     "output_type": "execute_result"
    }
   ],
   "source": [
    "%%sql\n",
    "SELECT \n",
    "    release_date \n",
    "FROM \n",
    "    movies \n",
    "WHERE \n",
    "    release_date IS NOT NULL \n",
    "ORDER BY \n",
    "    release_date ASC\n",
    "LIMIT 10;"
   ]
  },
  {
   "cell_type": "markdown",
   "id": "79dc3d5f",
   "metadata": {},
   "source": [
    "### Question 3\n",
    "\n",
    "How many unique awards are there in the Oscars table?\n",
    "\n",
    "**Options:**\n",
    " - 141\n",
    " - 53 \n",
    " - 80\n",
    " - <mark>114</mark>"
   ]
  },
  {
   "cell_type": "code",
   "execution_count": 19,
   "id": "f4621a53",
   "metadata": {},
   "outputs": [
    {
     "name": "stdout",
     "output_type": "stream",
     "text": [
      " * sqlite:///TMDB_db.db\n",
      "Done.\n"
     ]
    },
    {
     "data": {
      "text/html": [
       "<table>\n",
       "    <thead>\n",
       "        <tr>\n",
       "            <th>unique_awards</th>\n",
       "        </tr>\n",
       "    </thead>\n",
       "    <tbody>\n",
       "        <tr>\n",
       "            <td>114</td>\n",
       "        </tr>\n",
       "    </tbody>\n",
       "</table>"
      ],
      "text/plain": [
       "[(114,)]"
      ]
     },
     "execution_count": 19,
     "metadata": {},
     "output_type": "execute_result"
    }
   ],
   "source": [
    "%%sql\n",
    "SELECT \n",
    "    COUNT(DISTINCT award) as unique_awards\n",
    "FROM \n",
    "    oscars;"
   ]
  },
  {
   "cell_type": "markdown",
   "id": "a8b06373",
   "metadata": {},
   "source": [
    "### Question 4\n",
    "\n",
    "How many movies are there that contain the word “Spider” within their title?\n",
    "\n",
    "**Options:**\n",
    " - 0\n",
    " - 5\n",
    " - 1\n",
    " - <mark>9</mark>"
   ]
  },
  {
   "cell_type": "code",
   "execution_count": 20,
   "id": "1e003247",
   "metadata": {},
   "outputs": [
    {
     "name": "stdout",
     "output_type": "stream",
     "text": [
      " * sqlite:///TMDB_db.db\n",
      "Done.\n"
     ]
    },
    {
     "data": {
      "text/html": [
       "<table>\n",
       "    <thead>\n",
       "        <tr>\n",
       "            <th>spider_movies</th>\n",
       "        </tr>\n",
       "    </thead>\n",
       "    <tbody>\n",
       "        <tr>\n",
       "            <td>9</td>\n",
       "        </tr>\n",
       "    </tbody>\n",
       "</table>"
      ],
      "text/plain": [
       "[(9,)]"
      ]
     },
     "execution_count": 20,
     "metadata": {},
     "output_type": "execute_result"
    }
   ],
   "source": [
    "%%sql\n",
    "SELECT\n",
    "    COUNT(title) as spider_movies\n",
    "FROM\n",
    "    movies\n",
    "WHERE\n",
    "    title LIKE '%Spider%';"
   ]
  },
  {
   "cell_type": "markdown",
   "id": "2f77c5bd",
   "metadata": {},
   "source": [
    "### Question 5\n",
    "\n",
    "How many movies are there that are both in the \"Thriller\" genre and contain the word “love” anywhere in the keywords?\n",
    "- How about a WILDCARD------> Gives  value of 55\n",
    "\n",
    "\n",
    "**Options:**\n",
    " - <mark>48</mark>\n",
    " - 38\n",
    " - 14\n",
    " - 1"
   ]
  },
  {
   "cell_type": "code",
   "execution_count": 4,
   "id": "abc5146c",
   "metadata": {},
   "outputs": [
    {
     "name": "stdout",
     "output_type": "stream",
     "text": [
      " * sqlite:///TMDB_db.db\n",
      "Done.\n"
     ]
    },
    {
     "data": {
      "text/html": [
       "<table>\n",
       "    <thead>\n",
       "        <tr>\n",
       "            <th>thriller_love_movies</th>\n",
       "        </tr>\n",
       "    </thead>\n",
       "    <tbody>\n",
       "        <tr>\n",
       "            <td>55</td>\n",
       "        </tr>\n",
       "    </tbody>\n",
       "</table>"
      ],
      "text/plain": [
       "[(55,)]"
      ]
     },
     "execution_count": 4,
     "metadata": {},
     "output_type": "execute_result"
    }
   ],
   "source": [
    "%%sql\n",
    "SELECT \n",
    "    COUNT(*) as thriller_love_movies\n",
    "FROM\n",
    "    (SELECT\n",
    "        m.title,\n",
    "        g.genre_id,\n",
    "        gn.genre_name,\n",
    "        kw.keyword_name\n",
    "    FROM\n",
    "        movies as m\n",
    "    JOIN\n",
    "       genremap as g \n",
    "        ON m.movie_id = g.movie_id\n",
    "    JOIN\n",
    "        genres as gn\n",
    "        ON g.genre_id = gn.genre_id\n",
    "    JOIN\n",
    "        keywordmap as kwm\n",
    "        ON m.movie_id = kwm.movie_id\n",
    "    JOIN\n",
    "        keywords as kw\n",
    "        ON kwm.keyword_id = kw.keyword_id\n",
    "    WHERE\n",
    "         (gn.genre_name = 'Thriller' AND\n",
    "        kw.keyword_name LIKE'%love%')\n",
    ");"
   ]
  },
  {
   "cell_type": "markdown",
   "id": "8c6e82eb",
   "metadata": {},
   "source": [
    "### Question 6\n",
    "\n",
    "How many movies are there that were released between 1 August 2006 ('2006-08-01') and 1 October 2009 ('2009-10-01') that have a popularity score of more than 40 and a budget of less than 50 000 000?\n",
    "\n",
    " \n",
    "**Options:**\n",
    "\n",
    " - <mark>29</mark>\n",
    " - 23\n",
    " - 28\n",
    " - 35"
   ]
  },
  {
   "cell_type": "code",
   "execution_count": 54,
   "id": "e8de6542",
   "metadata": {},
   "outputs": [
    {
     "name": "stdout",
     "output_type": "stream",
     "text": [
      " * sqlite:///TMDB_db.db\n",
      "Done.\n"
     ]
    },
    {
     "data": {
      "text/html": [
       "<table>\n",
       "    <thead>\n",
       "        <tr>\n",
       "            <th>selected_movies</th>\n",
       "        </tr>\n",
       "    </thead>\n",
       "    <tbody>\n",
       "        <tr>\n",
       "            <td>29</td>\n",
       "        </tr>\n",
       "    </tbody>\n",
       "</table>"
      ],
      "text/plain": [
       "[(29,)]"
      ]
     },
     "execution_count": 54,
     "metadata": {},
     "output_type": "execute_result"
    }
   ],
   "source": [
    "%%sql\n",
    "SELECT\n",
    "    COUNT(*) as selected_movies\n",
    "FROM(\n",
    "    SELECT\n",
    "        release_date,\n",
    "        budget,\n",
    "        popularity\n",
    "    FROM\n",
    "        movies\n",
    "    WHERE\n",
    "        release_date BETWEEN '2006-08-01' AND '2009-10-01'\n",
    "        AND popularity > 40\n",
    "        AND budget < 50000000\n",
    ");"
   ]
  },
  {
   "cell_type": "markdown",
   "id": "cf0d12b1",
   "metadata": {},
   "source": [
    "### Question 7\n",
    "\n",
    "How many unique characters has \"Vin Diesel\" played so far in the database?\n",
    "\n",
    "**Options:**\n",
    " - 24\n",
    " - 19\n",
    " - 18\n",
    " - <mark>16</mark>"
   ]
  },
  {
   "cell_type": "code",
   "execution_count": 61,
   "id": "cc1eecb5",
   "metadata": {},
   "outputs": [
    {
     "name": "stdout",
     "output_type": "stream",
     "text": [
      " * sqlite:///TMDB_db.db\n",
      "Done.\n"
     ]
    },
    {
     "data": {
      "text/html": [
       "<table>\n",
       "    <thead>\n",
       "        <tr>\n",
       "            <th>unique_characters_Vin_Diesel</th>\n",
       "        </tr>\n",
       "    </thead>\n",
       "    <tbody>\n",
       "        <tr>\n",
       "            <td>16</td>\n",
       "        </tr>\n",
       "    </tbody>\n",
       "</table>"
      ],
      "text/plain": [
       "[(16,)]"
      ]
     },
     "execution_count": 61,
     "metadata": {},
     "output_type": "execute_result"
    }
   ],
   "source": [
    "%%sql\n",
    "SELECT\n",
    "    COUNT(DISTINCT characters) as unique_characters_Vin_Diesel\n",
    "FROM\n",
    "   (SELECT\n",
    "        a.actor_name,\n",
    "        c.characters\n",
    "    FROM\n",
    "        actors as a\n",
    "    JOIN\n",
    "        casts as c\n",
    "        ON a.actor_id = c.actor_id\n",
    "    WHERE\n",
    "        actor_name =  \"Vin Diesel\"\n",
    ");"
   ]
  },
  {
   "cell_type": "markdown",
   "id": "297fc8b8",
   "metadata": {},
   "source": [
    "### Question 8\n",
    "\n",
    "What are the genres of the movie “The Royal Tenenbaums”?\n",
    "\n",
    "\n",
    "**Options:**\n",
    " - Action, Romance\n",
    " - <mark>Drama, Comedy</mark>\n",
    " - Crime, Thriller\n",
    " - Drama, Romance"
   ]
  },
  {
   "cell_type": "code",
   "execution_count": 65,
   "id": "e2ad1e00",
   "metadata": {},
   "outputs": [
    {
     "name": "stdout",
     "output_type": "stream",
     "text": [
      " * sqlite:///TMDB_db.db\n",
      "Done.\n"
     ]
    },
    {
     "data": {
      "text/html": [
       "<table>\n",
       "    <thead>\n",
       "        <tr>\n",
       "            <th>title</th>\n",
       "            <th>genre_name</th>\n",
       "        </tr>\n",
       "    </thead>\n",
       "    <tbody>\n",
       "        <tr>\n",
       "            <td>The Royal Tenenbaums</td>\n",
       "            <td>Drama</td>\n",
       "        </tr>\n",
       "        <tr>\n",
       "            <td>The Royal Tenenbaums</td>\n",
       "            <td>Comedy</td>\n",
       "        </tr>\n",
       "    </tbody>\n",
       "</table>"
      ],
      "text/plain": [
       "[('The Royal Tenenbaums', 'Drama'), ('The Royal Tenenbaums', 'Comedy')]"
      ]
     },
     "execution_count": 65,
     "metadata": {},
     "output_type": "execute_result"
    }
   ],
   "source": [
    "%%sql\n",
    "SELECT\n",
    "    m.title,\n",
    "    gn.genre_name\n",
    " FROM\n",
    "    movies as m\n",
    "JOIN\n",
    "     genremap as g \n",
    "     ON m.movie_id = g.movie_id\n",
    " JOIN\n",
    "    genres as gn\n",
    "    ON g.genre_id = gn.genre_id\n",
    "WHERE\n",
    "     title = \"The Royal Tenenbaums\";"
   ]
  },
  {
   "cell_type": "markdown",
   "id": "d3ed71a0",
   "metadata": {},
   "source": [
    "### Question 9\n",
    "\n",
    "What are the three production companies that have the highest movie popularity score on average, as recorded within the database?\n",
    "\n",
    "\n",
    "**Options:**\n",
    "\n",
    " - MCL Films S.A., Turner Pictures, and George Stevens Productions\n",
    " - <mark>The Donners' Company, Bulletproof Cupid, and Kinberg Genre</mark>\n",
    " - Bulletproof Cupid, The Donners' Company, and MCL Films S.A\n",
    " - B.Sting Entertainment, Illumination Pictures, and Aztec Musique"
   ]
  },
  {
   "cell_type": "code",
   "execution_count": 69,
   "id": "92d65440",
   "metadata": {},
   "outputs": [
    {
     "name": "stdout",
     "output_type": "stream",
     "text": [
      " * sqlite:///TMDB_db.db\n",
      "Done.\n"
     ]
    },
    {
     "data": {
      "text/html": [
       "<table>\n",
       "    <thead>\n",
       "        <tr>\n",
       "            <th>production_company_name</th>\n",
       "            <th>avg_popularity</th>\n",
       "        </tr>\n",
       "    </thead>\n",
       "    <tbody>\n",
       "        <tr>\n",
       "            <td>The Donners&#x27; Company</td>\n",
       "            <td>514.57</td>\n",
       "        </tr>\n",
       "        <tr>\n",
       "            <td>Bulletproof Cupid</td>\n",
       "            <td>481.1</td>\n",
       "        </tr>\n",
       "        <tr>\n",
       "            <td>Kinberg Genre</td>\n",
       "            <td>326.92</td>\n",
       "        </tr>\n",
       "    </tbody>\n",
       "</table>"
      ],
      "text/plain": [
       "[(\"The Donners' Company\", 514.57),\n",
       " ('Bulletproof Cupid', 481.1),\n",
       " ('Kinberg Genre', 326.92)]"
      ]
     },
     "execution_count": 69,
     "metadata": {},
     "output_type": "execute_result"
    }
   ],
   "source": [
    "%%sql\n",
    "SELECT\n",
    "    pc.production_company_name,\n",
    "    ROUND(AVG(m.popularity),2) as avg_popularity\n",
    "FROM\n",
    "    productioncompanies as pc\n",
    "JOIN\n",
    "    productioncompanymap as pcm\n",
    "    ON pc.production_company_id = pcm.production_company_id\n",
    "JOIN\n",
    "    movies as m\n",
    "    ON pcm.movie_id = m.movie_id\n",
    "GROUP BY\n",
    "    production_company_name\n",
    "ORDER BY\n",
    "    avg_popularity DESC\n",
    "LIMIT 3;"
   ]
  },
  {
   "cell_type": "markdown",
   "id": "d892dcac",
   "metadata": {},
   "source": [
    "### Question 10\n",
    "\n",
    "How many female actors (i.e. gender = 1) have a name that starts with the letter \"N\"?\n",
    "\n",
    "\n",
    "**Options:**\n",
    "\n",
    " - 0\n",
    " - <mark>355</mark>\n",
    " - 7335\n",
    " - 1949"
   ]
  },
  {
   "cell_type": "code",
   "execution_count": 72,
   "id": "4bca2942",
   "metadata": {},
   "outputs": [
    {
     "name": "stdout",
     "output_type": "stream",
     "text": [
      " * sqlite:///TMDB_db.db\n",
      "Done.\n"
     ]
    },
    {
     "data": {
      "text/html": [
       "<table>\n",
       "    <thead>\n",
       "        <tr>\n",
       "            <th>number_of_female_actors</th>\n",
       "        </tr>\n",
       "    </thead>\n",
       "    <tbody>\n",
       "        <tr>\n",
       "            <td>355</td>\n",
       "        </tr>\n",
       "    </tbody>\n",
       "</table>"
      ],
      "text/plain": [
       "[(355,)]"
      ]
     },
     "execution_count": 72,
     "metadata": {},
     "output_type": "execute_result"
    }
   ],
   "source": [
    "%%sql\n",
    "SELECT\n",
    "    COUNT(actor_name) as number_of_female_actors\n",
    "FROM(\n",
    "SELECT\n",
    "    gender,\n",
    "    actor_name\n",
    "FROM\n",
    "    actors\n",
    "WHERE\n",
    "    gender = 1\n",
    "    AND actor_name LIKE 'N%'\n",
    ");"
   ]
  },
  {
   "cell_type": "markdown",
   "id": "7ea65b50",
   "metadata": {},
   "source": [
    "### Question 11\n",
    "\n",
    "Which genre has, on average, the lowest movie popularity score? \n",
    "\n",
    "\n",
    "**Options:**\n",
    "\n",
    " - Science Fiction\n",
    " - Animation\n",
    " - Documentary\n",
    " - <mark>Foreign</mark>"
   ]
  },
  {
   "cell_type": "code",
   "execution_count": 76,
   "id": "e3a55c56",
   "metadata": {},
   "outputs": [
    {
     "name": "stdout",
     "output_type": "stream",
     "text": [
      " * sqlite:///TMDB_db.db\n",
      "Done.\n"
     ]
    },
    {
     "data": {
      "text/html": [
       "<table>\n",
       "    <thead>\n",
       "        <tr>\n",
       "            <th>genre_name</th>\n",
       "            <th>avg_popularity_asc</th>\n",
       "        </tr>\n",
       "    </thead>\n",
       "    <tbody>\n",
       "        <tr>\n",
       "            <td>Foreign</td>\n",
       "            <td>0.69</td>\n",
       "        </tr>\n",
       "        <tr>\n",
       "            <td>Documentary</td>\n",
       "            <td>3.95</td>\n",
       "        </tr>\n",
       "        <tr>\n",
       "            <td>TV Movie</td>\n",
       "            <td>6.39</td>\n",
       "        </tr>\n",
       "        <tr>\n",
       "            <td>Music</td>\n",
       "            <td>13.1</td>\n",
       "        </tr>\n",
       "        <tr>\n",
       "            <td>Romance</td>\n",
       "            <td>15.96</td>\n",
       "        </tr>\n",
       "        <tr>\n",
       "            <td>History</td>\n",
       "            <td>17.44</td>\n",
       "        </tr>\n",
       "        <tr>\n",
       "            <td>Drama</td>\n",
       "            <td>17.76</td>\n",
       "        </tr>\n",
       "        <tr>\n",
       "            <td>Comedy</td>\n",
       "            <td>18.22</td>\n",
       "        </tr>\n",
       "        <tr>\n",
       "            <td>Western</td>\n",
       "            <td>18.24</td>\n",
       "        </tr>\n",
       "        <tr>\n",
       "            <td>Horror</td>\n",
       "            <td>18.3</td>\n",
       "        </tr>\n",
       "        <tr>\n",
       "            <td>Crime</td>\n",
       "            <td>22.85</td>\n",
       "        </tr>\n",
       "        <tr>\n",
       "            <td>War</td>\n",
       "            <td>23.78</td>\n",
       "        </tr>\n",
       "        <tr>\n",
       "            <td>Thriller</td>\n",
       "            <td>24.46</td>\n",
       "        </tr>\n",
       "        <tr>\n",
       "            <td>Mystery</td>\n",
       "            <td>24.59</td>\n",
       "        </tr>\n",
       "        <tr>\n",
       "            <td>Family</td>\n",
       "            <td>27.83</td>\n",
       "        </tr>\n",
       "        <tr>\n",
       "            <td>Action</td>\n",
       "            <td>30.94</td>\n",
       "        </tr>\n",
       "        <tr>\n",
       "            <td>Fantasy</td>\n",
       "            <td>36.39</td>\n",
       "        </tr>\n",
       "        <tr>\n",
       "            <td>Science Fiction</td>\n",
       "            <td>36.45</td>\n",
       "        </tr>\n",
       "        <tr>\n",
       "            <td>Animation</td>\n",
       "            <td>38.81</td>\n",
       "        </tr>\n",
       "        <tr>\n",
       "            <td>Adventure</td>\n",
       "            <td>39.27</td>\n",
       "        </tr>\n",
       "    </tbody>\n",
       "</table>"
      ],
      "text/plain": [
       "[('Foreign', 0.69),\n",
       " ('Documentary', 3.95),\n",
       " ('TV Movie', 6.39),\n",
       " ('Music', 13.1),\n",
       " ('Romance', 15.96),\n",
       " ('History', 17.44),\n",
       " ('Drama', 17.76),\n",
       " ('Comedy', 18.22),\n",
       " ('Western', 18.24),\n",
       " ('Horror', 18.3),\n",
       " ('Crime', 22.85),\n",
       " ('War', 23.78),\n",
       " ('Thriller', 24.46),\n",
       " ('Mystery', 24.59),\n",
       " ('Family', 27.83),\n",
       " ('Action', 30.94),\n",
       " ('Fantasy', 36.39),\n",
       " ('Science Fiction', 36.45),\n",
       " ('Animation', 38.81),\n",
       " ('Adventure', 39.27)]"
      ]
     },
     "execution_count": 76,
     "metadata": {},
     "output_type": "execute_result"
    }
   ],
   "source": [
    "%%sql\n",
    "SELECT\n",
    "    gn.genre_name,\n",
    "    ROUND(AVG(m.popularity),2) as avg_popularity_asc\n",
    " FROM\n",
    "    movies as m\n",
    "JOIN\n",
    "     genremap as g \n",
    "     ON m.movie_id = g.movie_id\n",
    " JOIN\n",
    "    genres as gn\n",
    "    ON g.genre_id = gn.genre_id\n",
    "GROUP BY \n",
    "    genre_name\n",
    "ORDER BY\n",
    "    avg_popularity_asc ASC;"
   ]
  },
  {
   "cell_type": "markdown",
   "id": "3769de93",
   "metadata": {},
   "source": [
    "### Question 12\n",
    "\n",
    "Which award category has the highest number of actor nominations (actors can be male or female)? (Hint: `Oscars.name` contains both actors' names and film names.)\n",
    "\n",
    "**Options:**\n",
    "\n",
    "- Special Achievement Award\n",
    "- <mark>Actor in a Supporting Role</mark>\n",
    "- Actress in a Supporting Role\n",
    "- Best Picture\n",
    "\n"
   ]
  },
  {
   "cell_type": "code",
   "execution_count": 3,
   "id": "e3943f72",
   "metadata": {},
   "outputs": [
    {
     "name": "stdout",
     "output_type": "stream",
     "text": [
      " * sqlite:///TMDB_db.db\n",
      "Done.\n"
     ]
    },
    {
     "data": {
      "text/html": [
       "<table>\n",
       "    <thead>\n",
       "        <tr>\n",
       "            <th>award</th>\n",
       "            <th>name</th>\n",
       "            <th>film</th>\n",
       "            <th>award_nomination</th>\n",
       "        </tr>\n",
       "    </thead>\n",
       "    <tbody>\n",
       "        <tr>\n",
       "            <td>Actress in a Supporting Role</td>\n",
       "            <td>Gale Sondergaard</td>\n",
       "            <td>Anthony Adverse</td>\n",
       "            <td>1</td>\n",
       "        </tr>\n",
       "        <tr>\n",
       "            <td>Actress in a Leading Role</td>\n",
       "            <td>Faye Dunaway</td>\n",
       "            <td>Network</td>\n",
       "            <td>1</td>\n",
       "        </tr>\n",
       "        <tr>\n",
       "            <td>Actress</td>\n",
       "            <td>Janet Gaynor</td>\n",
       "            <td>7th Heaven</td>\n",
       "            <td>1</td>\n",
       "        </tr>\n",
       "        <tr>\n",
       "            <td>Actor in a Supporting Role</td>\n",
       "            <td>Mischa Auer</td>\n",
       "            <td>My Man Godfrey</td>\n",
       "            <td>1</td>\n",
       "        </tr>\n",
       "        <tr>\n",
       "            <td>Actor in a Leading Role</td>\n",
       "            <td>Robert De Niro</td>\n",
       "            <td>Taxi Driver</td>\n",
       "            <td>1</td>\n",
       "        </tr>\n",
       "        <tr>\n",
       "            <td>Actor</td>\n",
       "            <td>Richard Barthelmess</td>\n",
       "            <td>The Noose</td>\n",
       "            <td>1</td>\n",
       "        </tr>\n",
       "    </tbody>\n",
       "</table>"
      ],
      "text/plain": [
       "[('Actress in a Supporting Role', 'Gale Sondergaard', 'Anthony Adverse', 1),\n",
       " ('Actress in a Leading Role', 'Faye Dunaway', 'Network', 1),\n",
       " ('Actress', 'Janet Gaynor', '7th Heaven', 1),\n",
       " ('Actor in a Supporting Role', 'Mischa Auer', 'My Man Godfrey', 1),\n",
       " ('Actor in a Leading Role', 'Robert De Niro', 'Taxi Driver', 1),\n",
       " ('Actor', 'Richard Barthelmess', 'The Noose', 1)]"
      ]
     },
     "execution_count": 3,
     "metadata": {},
     "output_type": "execute_result"
    }
   ],
   "source": [
    "%%sql\n",
    "SELECT \n",
    "    award,\n",
    "    name,\n",
    "    film,\n",
    "    COUNT(award) as award_nomination\n",
    "FROM \n",
    "    oscars\n",
    "WHERE\n",
    "    award LIKE'%actor%'\n",
    "    OR award LIKE '%actress%'\n",
    "    AND winner = 1.0\n",
    "GROUP BY\n",
    "    award\n",
    "ORDER BY\n",
    "    award_nomination DESC;"
   ]
  },
  {
   "cell_type": "code",
   "execution_count": 98,
   "id": "a50f7df5-6320-469d-bf31-32898e6801c2",
   "metadata": {},
   "outputs": [
    {
     "name": "stdout",
     "output_type": "stream",
     "text": [
      " * sqlite:///TMDB_db.db\n",
      "Done.\n"
     ]
    },
    {
     "data": {
      "text/html": [
       "<table>\n",
       "    <thead>\n",
       "        <tr>\n",
       "            <th>year</th>\n",
       "            <th>award</th>\n",
       "            <th>winner</th>\n",
       "            <th>name</th>\n",
       "            <th>film</th>\n",
       "        </tr>\n",
       "    </thead>\n",
       "    <tbody>\n",
       "        <tr>\n",
       "            <td>1928</td>\n",
       "            <td>Actor</td>\n",
       "            <td>None</td>\n",
       "            <td>Richard Barthelmess</td>\n",
       "            <td>The Noose</td>\n",
       "        </tr>\n",
       "        <tr>\n",
       "            <td>1928</td>\n",
       "            <td>Actor</td>\n",
       "            <td>1.0</td>\n",
       "            <td>Emil Jannings</td>\n",
       "            <td>The Last Command</td>\n",
       "        </tr>\n",
       "    </tbody>\n",
       "</table>"
      ],
      "text/plain": [
       "[('1928', 'Actor', None, 'Richard Barthelmess', 'The Noose'),\n",
       " ('1928', 'Actor', '1.0', 'Emil Jannings', 'The Last Command')]"
      ]
     },
     "execution_count": 98,
     "metadata": {},
     "output_type": "execute_result"
    }
   ],
   "source": [
    "%%sql\n",
    "SELECT*\n",
    "FROM oscars\n",
    "LIMIT 2;"
   ]
  },
  {
   "cell_type": "markdown",
   "id": "c80a7c0c",
   "metadata": {},
   "source": [
    "### Question 13\n",
    "\n",
    "For all of the entries in the Oscars table before 1934, the year is stored differently than in all the subsequent years. For example, the year would be saved as “1932/1933” instead of just “1933” (the second indicated year).  Which of the following options would be the appropriate code to update this column to have the format of the year be consistent throughout the entire table (second indicated year only shown)?\n",
    "\n",
    "\n",
    "**Options:**\n",
    "\n",
    "- `UPDATE Oscars SET year = RIGHT(year, -4)`\n",
    "- `UPDATE Oscars SET year = SELECT substr(year, -4)`\n",
    "- <mark> UPDATE Oscars SET year = substr(year, -4) </mark>\n",
    "- `UPDATE Oscars year =  substr(year, 4)`"
   ]
  },
  {
   "cell_type": "code",
   "execution_count": null,
   "id": "6220bb09",
   "metadata": {},
   "outputs": [],
   "source": [
    "%%sql\n",
    "UPDATE Oscars SET year = substr(year, -4)"
   ]
  },
  {
   "cell_type": "markdown",
   "id": "a7d73885",
   "metadata": {},
   "source": [
    "### Question 14\n",
    "\n",
    "DStv will be having a special week dedicated to the actor Alan Rickman. Which of the following queries would create a new _view_ that shows the titles, release dates, taglines, and overviews of all movies that Alan Rickman has played in?\n",
    "\n",
    "\n",
    "\n",
    "**Options:**\n",
    "\n",
    "- SELECT title, release_date, tagline, overview \n",
    "FROM Movies LEFT JOIN Casts ON Casts.movie_id = Movies.movie_id Left JOIN Actors ON Casts.actor_id = Actors.actor_id \n",
    "WHERE Actors.actor_name = 'Alan Rickman'\n",
    "AS VIEW Alan_Rickman_Movies\n",
    "\n",
    "- <mark>CREATE VIEW Alan_Rickman_Movies AS  \n",
    "SELECT title, release_date, tagline, overview FROM Movies  \n",
    "LEFT JOIN Casts ON Casts.movie_id = Movies.movie_id Left JOIN Actors\n",
    "ON Casts.actor_id = Actors.actor_id\n",
    "WHERE Actors.actor_name = 'Alan Rickman'</mark> \n",
    "\n",
    "\n",
    "- CREATE NEW VIEW  Name  = Alan_Rickman_Movies AS SELECT title, release_date, tagline, overview FROM Movies LEFT JOIN Casts ON Casts.movie_id = Movies.movie_id Left JOIN Actors ON Casts.actor_id = Actors.actor_id WHERE Actors.actor_name = 'Alan Rickman'\n",
    "\n",
    "- VIEW Alan_Rickman_Movies AS SELECT title, release_date, tagline, overview FROM Movies LEFT JOIN Casts ON Casts.movie_id = Movies.movie_id Left JOIN Actors ON Casts.actor_id = Actors.actor_id WHERE Actors.actor_name = 'Alan Rickman'"
   ]
  },
  {
   "cell_type": "code",
   "execution_count": null,
   "id": "f9b82bc6",
   "metadata": {},
   "outputs": [],
   "source": [
    "%%sql\n",
    "CREATE VIEW Alan_Rickman_Movies AS\n",
    "SELECT title, release_date, tagline, overview FROM Movies\n",
    "LEFT JOIN Casts ON Casts.movie_id = Movies.movie_id Left JOIN Actors ON Casts.actor_id = Actors.actor_id WHERE Actors.actor_name = 'Alan Rickman'"
   ]
  },
  {
   "cell_type": "markdown",
   "id": "42e9915e",
   "metadata": {},
   "source": [
    "### Question 15\n",
    "\n",
    "Which of the statements about database normalisation are true?\n",
    "\n",
    "**Statements:**\n",
    " \n",
    "i) Database normalisation **improves** data redundancy, saves on storage space, and fulfils the requirement of records to be uniquely identified.\n",
    "\n",
    "ii) Database normalisation supports up to the Third Normal Form and removes all data anomalies.\n",
    "\n",
    "iii) Database normalisation removes inconsistencies that may cause the analysis of our data to be more complicated.\n",
    "\n",
    "iv) Database normalisation increases data redundancy, saves on storage space, and fulfils the requirement of records to be uniquely identified.\n",
    "\n",
    "**Options:**\n",
    "\n",
    " - (i) and (ii)\n",
    " - <mark>(i) and (iii)</mark>\n",
    " - (ii) and (iv)\n",
    " - (iii) and (iv)"
   ]
  },
  {
   "cell_type": "markdown",
   "id": "26fd094b-0fee-46f1-a4b8-73766813c42b",
   "metadata": {
    "tags": []
   },
   "source": [
    "#  \n",
    "\n",
    "<div align=\"center\" style=\" font-size: 80%; text-align: center; margin: 0 auto\">\n",
    "<img src=\"https://raw.githubusercontent.com/Explore-AI/Pictures/master/ExploreAI_logos/EAI_Blue_Dark.png\"  style=\"width:200px\";/>\n",
    "</div>"
   ]
  }
 ],
 "metadata": {
  "kernelspec": {
   "display_name": "Python 3 (ipykernel)",
   "language": "python",
   "name": "python3"
  },
  "language_info": {
   "codemirror_mode": {
    "name": "ipython",
    "version": 3
   },
   "file_extension": ".py",
   "mimetype": "text/x-python",
   "name": "python",
   "nbconvert_exporter": "python",
   "pygments_lexer": "ipython3",
   "version": "3.11.9"
  }
 },
 "nbformat": 4,
 "nbformat_minor": 5
}
